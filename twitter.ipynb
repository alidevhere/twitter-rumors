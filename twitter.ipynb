{
  "nbformat": 4,
  "nbformat_minor": 0,
  "metadata": {
    "colab": {
      "name": "twitter.ipynb",
      "provenance": [],
      "collapsed_sections": [],
      "include_colab_link": true
    },
    "kernelspec": {
      "name": "python3",
      "display_name": "Python 3"
    }
  },
  "cells": [
    {
      "cell_type": "markdown",
      "metadata": {
        "id": "view-in-github",
        "colab_type": "text"
      },
      "source": [
        "<a href=\"https://colab.research.google.com/github/programmingLover12/twitter/blob/main/twitter.ipynb\" target=\"_parent\"><img src=\"https://colab.research.google.com/assets/colab-badge.svg\" alt=\"Open In Colab\"/></a>"
      ]
    },
    {
      "cell_type": "code",
      "metadata": {
        "id": "NW714p7mSjgW",
        "colab": {
          "base_uri": "https://localhost:8080/"
        },
        "outputId": "d82466ef-eed3-4c16-e8e6-c528dead1f47"
      },
      "source": [
        "from google.colab import drive\n",
        "drive.mount('/content/drive')"
      ],
      "execution_count": 22,
      "outputs": [
        {
          "output_type": "stream",
          "text": [
            "Drive already mounted at /content/drive; to attempt to forcibly remount, call drive.mount(\"/content/drive\", force_remount=True).\n"
          ],
          "name": "stdout"
        }
      ]
    },
    {
      "cell_type": "code",
      "metadata": {
        "colab": {
          "base_uri": "https://localhost:8080/"
        },
        "id": "2urrY3qhTKeu",
        "outputId": "b998c44a-dbaf-497b-cdbd-90e382dfb4a4"
      },
      "source": [
        "cd /content/drive/MyDrive"
      ],
      "execution_count": 23,
      "outputs": [
        {
          "output_type": "stream",
          "text": [
            "/content/drive/MyDrive\n"
          ],
          "name": "stdout"
        }
      ]
    },
    {
      "cell_type": "code",
      "metadata": {
        "id": "IQwQ_HpITLgy",
        "colab": {
          "base_uri": "https://localhost:8080/"
        },
        "outputId": "bdee68b8-8f3e-4022-a9f1-cecc9afeedbe"
      },
      "source": [
        "# 0 = non- rumor , 1 = rumor\n",
        "import pandas as pd\n",
        "import numpy as np\n",
        "from keras.models import Sequential\n",
        "from keras.layers import Dense,SimpleRNN,LSTM,GRU,Bidirectional\n",
        "# adding temporal cnn\n",
        "#from tcn import TCN, tcn_full_summary\n",
        "from sklearn.preprocessing import MinMaxScaler\n",
        "from keras.models import load_model\n",
        "from tensorflow import keras\n",
        "from tensorflow.keras import layers\n",
        "from  sklearn.model_selection import train_test_split\n",
        "# adding temporal cnn\n",
        "!pip install keras-tcn --no-dependencies\n",
        "from tcn import TCN, tcn_full_summary\n",
        "models_dir= \"/content/drive/MyDrive/CSV_Files/Models\""
      ],
      "execution_count": 24,
      "outputs": [
        {
          "output_type": "stream",
          "text": [
            "Requirement already satisfied: keras-tcn in /usr/local/lib/python3.7/dist-packages (3.4.0)\n"
          ],
          "name": "stdout"
        }
      ]
    },
    {
      "cell_type": "code",
      "metadata": {
        "id": "ue8wlD6eTNwK"
      },
      "source": [
        "def load_data(event,time=3600):\n",
        "    events = [\"charliehebdo\", \"ferguson\", \"germanwings-crash\", \"gurlitt\", \"ottawashooting\", \"putinmissing\",\n",
        "                \"sydneysiege\"]\n",
        "    data = pd.read_csv(f'CSV_Files/{events[event]}.csv', names=['timeDiff', 'status', 'Freq'], header=0)\n",
        "    \n",
        "    data = data[data['timeDiff'] <= time]\n",
        "    print(data)\n",
        "    return data\n"
      ],
      "execution_count": 25,
      "outputs": []
    },
    {
      "cell_type": "code",
      "metadata": {
        "id": "_NcInooWAQ0M"
      },
      "source": [
        "def build_confusion_matrix(test,predict):\n",
        "\n",
        "    TP = 0\n",
        "    TN = 0\n",
        "    FP = 0\n",
        "    FN = 0\n",
        "\n",
        "    for i in range(len(predict)):\n",
        "\n",
        "        if test[i] == predict[i] == 1:\n",
        "            TP = TP + 1\n",
        "        elif test[i] == predict[i] == 0:\n",
        "            TN = TN + 1\n",
        "        elif test[i] != predict[i] and  predict[i] == 0:\n",
        "            FN = FN + 1\n",
        "        elif test[i] != predict[i] and  predict[i] == 1:\n",
        "            FP = FP + 1\n",
        "\n",
        "    return (TP,TN,FP,FN)\n"
      ],
      "execution_count": 26,
      "outputs": []
    },
    {
      "cell_type": "code",
      "metadata": {
        "id": "7Plwec_pTQRi"
      },
      "source": [
        "def split_train_test(training):\n",
        "    scaler =  MinMaxScaler(feature_range=(0,1))\n",
        "    training = scaler.fit_transform(training)\n",
        "    train, test = train_test_split(training, test_size=0.3)\n",
        "    return train, test\n"
      ],
      "execution_count": 27,
      "outputs": []
    },
    {
      "cell_type": "code",
      "metadata": {
        "id": "QMBAtZiUT9bp"
      },
      "source": [
        "def build_tcnn(x_train,y_train,save, event_name,time,epoch=50):\n",
        "    #!cd /content/drive/MyDrive/CSV_Files/Models\n",
        "    seq = len(x_train)\n",
        "    units = int((seq +2) / 2)\n",
        "    look_back = 2\n",
        "\n",
        "    model = Sequential() \n",
        "    model.add(TCN(units ,input_shape=(x_train.shape[1], look_back)) )\n",
        "    model.add(Dense(1))\n",
        "    model.compile(optimizer='adam', loss='mse',metrics=[\"accuracy\"])\n",
        "\n",
        "    tcn_full_summary(model, expand_residual_blocks=False)\n",
        "    model.fit(x_train, y_train, epochs=epoch)#, validation_split=0.2\n",
        "\n",
        "    if save == True: \n",
        "        model.save(f'{models_dir}/TCNN/TCNN_{event_name}_{time}')\n",
        "    return model\n"
      ],
      "execution_count": 28,
      "outputs": []
    },
    {
      "cell_type": "code",
      "metadata": {
        "id": "6uvYNKrlUfWI"
      },
      "source": [
        "\n",
        "def build_LSTM(x_train,y_train,save,event_name,time,epoch=300):\n",
        "    #,x_test, y_test\n",
        "    seq = len(x_train)\n",
        "    units = int((seq +2) / 2)\n",
        "    look_back = 2\n",
        "    model = Sequential()\n",
        "    model.add(LSTM(units, input_shape = (x_train.shape[1], look_back)))\n",
        "    model.add(Dense(1,activation='sigmoid'))\n",
        "    model.compile( loss='binary_crossentropy', optimizer='adam',metrics=[\"accuracy\"])\n",
        "    model.summary()\n",
        "    model.fit(x_train, y_train, epochs=epoch, batch_size=32, verbose=2)\n",
        "    \n",
        "    if save == True: \n",
        "        model.save(f'{models_dir}/LSTM/LSTM_{event_name}_{time}')\n",
        "    return model\n"
      ],
      "execution_count": 29,
      "outputs": []
    },
    {
      "cell_type": "code",
      "metadata": {
        "id": "odxNhp8-VSW9"
      },
      "source": [
        "def build_RNN(x_train,y_train,save,event_name,time,epoch=300):\n",
        "    seq = len(x_train)\n",
        "    units = int((seq +2) / 2)\n",
        "    look_back =2\n",
        "\n",
        "    model = Sequential()\n",
        "    model.add(SimpleRNN(units, input_shape = (x_train.shape[1], look_back)))\n",
        "    model.add(Dense(1,activation='sigmoid'))\n",
        "    model.compile( loss='binary_crossentropy', optimizer='adam',metrics=[\"accuracy\"])\n",
        "    model.summary()\n",
        "    model.fit(x_train, y_train, epochs=epoch, batch_size=32, verbose=2)\n",
        "\n",
        "    if save==True:        \n",
        "        model.save(f'{models_dir}/SimpleRNN/SimpleRNN_{event_name}_{time}')\n",
        "    return model\n"
      ],
      "execution_count": 30,
      "outputs": []
    },
    {
      "cell_type": "code",
      "metadata": {
        "id": "4Vt_TsFbVUXe"
      },
      "source": [
        "def build_GRU(x_train, y_train,save,event_name,time,epoch=300):\n",
        "    seq = len(x_train)\n",
        "    units = int((seq +2) / 2)\n",
        "    look_back =2\n",
        "    model = keras.Sequential()\n",
        "    model.add(GRU(units, input_shape = (x_train.shape[1], look_back)))\n",
        "    model.add(Dense(1,activation='sigmoid'))\n",
        "    model.compile( loss='binary_crossentropy', optimizer='adam',metrics=[\"accuracy\"])\n",
        "    model.summary()\n",
        "    model.fit(x_train, y_train, epochs=epoch, batch_size=32, verbose=2)\n",
        "    \n",
        "    if save==True:\n",
        "        model.save(f'{models_dir}/GRU/GRU_{event_name}_{time}')\n",
        "    return model\n"
      ],
      "execution_count": 31,
      "outputs": []
    },
    {
      "cell_type": "code",
      "metadata": {
        "id": "dY1lBjDjVWVs"
      },
      "source": [
        "def build_bi_LSTM(x_train, y_train,save,event_name,time,epoch=300):\n",
        "    seq = len(x_train)\n",
        "    units = int((seq +2) / 2)\n",
        "    look_back =2\n",
        "    \n",
        "    \n",
        "    model = keras.Sequential()\n",
        "    model.add(Bidirectional(LSTM(units),input_shape = (x_train.shape[1], look_back) ))\n",
        "    model.add(Dense(1,activation='sigmoid'))\n",
        "    model.compile( loss='mean_squared_error', optimizer='adam',metrics=[\"accuracy\"])\n",
        "    model.summary()\n",
        "\n",
        "    model.fit(x_train, y_train, epochs=epoch, batch_size=32, verbose=2)\n",
        "    \n",
        "    if save==True:\n",
        "        model.save(f'{models_dir}/BiLSTM/BiLSTM_{event_name}_{time}')\n",
        "    return model\n"
      ],
      "execution_count": 32,
      "outputs": []
    },
    {
      "cell_type": "code",
      "metadata": {
        "id": "2pV4bQluk7l8"
      },
      "source": [
        "def Build_Simple_Dense(x_train, y_train,save,event_name,time,epoch=300):\n",
        "    seq = len(x_train)\n",
        "    units = int((seq +2) / 2)\n",
        "    look_back =2\n",
        "    \n",
        "    model = Sequential()\n",
        "    model.add(Dense(units,input_shape = (x_train.shape[1], look_back)))\n",
        "    model.add(Dense(1,activation='sigmoid'))\n",
        "    model.compile( loss='binary_crossentropy', optimizer='adam',metrics=[\"accuracy\"])\n",
        "    model.summary()\n",
        "    model.fit(x_train, y_train, epochs=epoch, batch_size=32, verbose=2)\n",
        "    \n",
        "    if save==True:\n",
        "        model.save(f'{models_dir}/Simple_Dense/Simple_Dense_{event_name}_{time}')\n",
        "    return model"
      ],
      "execution_count": 33,
      "outputs": []
    },
    {
      "cell_type": "code",
      "metadata": {
        "id": "sXAuA8owVYP9"
      },
      "source": [
        "def load_models(event_name,time):\n",
        "    # loading mdoel\n",
        "    models = []\n",
        "    models.append(keras.models.load_model(f'{models_dir}/LSTM/LSTM_{event_name}_{time}'))\n",
        "    models.append(keras.models.load_model(f'{models_dir}/SimpleRNN/SimpleRNN_{event_name}_{time}') )\n",
        "    models.append(keras.models.load_model(f'{models_dir}/GRU/GRU_{event_name}_{time}'))\n",
        "    models.append(keras.models.load_model(f'{models_dir}/BiLSTM/BiLSTM_{event_name}_{time}'))\n",
        "    models.append(keras.models.load_model(f'{models_dir}/TCNN/TCNN_{event_name}_{time}'))\n",
        "    return models\n"
      ],
      "execution_count": 34,
      "outputs": []
    },
    {
      "cell_type": "code",
      "metadata": {
        "id": "ys5DCbaf4bBl"
      },
      "source": [
        "def load_implementaion_A(event_name,time):\n",
        "    models = []\n",
        "    models.append(keras.models.load_model(f'{models_dir}/LSTM/LSTM_{event_name}_{time}'))\n",
        "    models.append(keras.models.load_model(f'{models_dir}/SimpleRNN/SimpleRNN_{event_name}_{time}') )\n",
        "    models.append(keras.models.load_model(f'{models_dir}/GRU/GRU_{event_name}_{time}'))\n",
        "    models.append(keras.models.load_model(f'{models_dir}/BiLSTM/BiLSTM_{event_name}_{time}'))\n",
        "    models.append(keras.models.load_model(f'{models_dir}/TCNN/TCNN_{event_name}_{time}'))\n",
        "    \n",
        "    x_test,y_test,_,_ = pre_process(event_name,time)\n",
        "    return models,x_test,y_test\n",
        "\n",
        "\n",
        "\n",
        "\n",
        "def load_implementaion_B(event_name,time):\n",
        "    models = []\n",
        "    models.append(keras.models.load_model(f'{models_dir}/LSTM/LSTM_{event_name}_{time}'))\n",
        "    models.append(keras.models.load_model(f'{models_dir}/SimpleRNN/SimpleRNN_{event_name}_{time}') )\n",
        "    models.append(keras.models.load_model(f'{models_dir}/GRU/GRU_{event_name}_{time}'))\n",
        "    models.append(keras.models.load_model(f'{models_dir}/BiLSTM/BiLSTM_{event_name}_{time}'))\n",
        "    models.append(keras.models.load_model(f'{models_dir}/Simple_Dense/Simple_Dense_{event_name}_{time}'))\n",
        "    \n",
        "    x_test,y_test,_,_ = pre_process(event_name,time)\n",
        "    return models,x_test,y_test\n"
      ],
      "execution_count": 35,
      "outputs": []
    },
    {
      "cell_type": "code",
      "metadata": {
        "id": "Ei1tyyo0Va-N"
      },
      "source": [
        "def Ensembler_1(event_name,time,method):\n",
        "    \n",
        "    if time >600:\n",
        "      print(\"ERROR : time stamp given greater than 600\")\n",
        "      return false\n",
        "    \n",
        "    \n",
        "    array = None\n",
        "    for model in models:\n",
        "        if array is None:\n",
        "            array = model.predict(x_test)\n",
        "        else:\n",
        "            a = model.predict(x_test)\n",
        "            array = np.append(array,a, axis=1)\n",
        "    \n",
        "    result = []\n",
        "    \n",
        "    if method == 'vote':\n",
        "    \n",
        "      for row in iter(array):\n",
        "          if (row > 0.50).sum() >=3:\n",
        "              result.append(1)\n",
        "          else:\n",
        "              result.append(0)\n",
        "    \n",
        "    elif method == 'avg':\n",
        "    \n",
        "      for row in iter(array):\n",
        "          avg = (row[0]+row[1]+row[2]+row[3]+row[4])/5\n",
        "          \n",
        "          if avg > 0.5:\n",
        "            result.append(1)\n",
        "          \n",
        "          else:\n",
        "            result.append(0)\n",
        "              \n",
        "    return np.array(result),expected\n"
      ],
      "execution_count": 36,
      "outputs": []
    },
    {
      "cell_type": "code",
      "metadata": {
        "id": "DKGjfQ0rVRaL"
      },
      "source": [
        "def pre_process(EVENT,TIME):\n",
        "    data = load_data(event = EVENT, time=TIME)\n",
        "    \n",
        "    # splitted into 70 - 30\n",
        "    train, test = train_test_split(data, test_size=0.3)\n",
        "    \n",
        "    x_train = train.drop(columns=[\"status\"])\n",
        "    y_train = train[\"status\"] \n",
        "\n",
        "    scaler =  MinMaxScaler(feature_range=(0,1))\n",
        "    x_train = scaler.fit_transform(x_train)\n",
        "\n",
        "\n",
        "    x_test = test.drop(columns=[\"status\"])\n",
        "    y_test = test[\"status\"] \n",
        "\n",
        "    scaler =  MinMaxScaler(feature_range=(0,1))\n",
        "    x_test = scaler.fit_transform(x_test)\n",
        "\n",
        "    #pdb.set_trace()\n",
        "\n",
        "    # reshaping\n",
        "    x_train = np.reshape(x_train, (x_train.shape[0], 1, x_train.shape[1]))\n",
        "    x_test = np.reshape(x_test, (x_test.shape[0], 1, x_test.shape[1]))\n",
        "\n",
        "    return x_test,y_test,x_train,y_train\n"
      ],
      "execution_count": 37,
      "outputs": []
    },
    {
      "cell_type": "code",
      "metadata": {
        "id": "izz3XpNpfTu0"
      },
      "source": [
        "def predict(model,event,time):\n",
        "  x_test,y_test,x_train,y_train = pre_process(event,time)\n",
        "  m = keras.models.load_model(f'{models_dir}/{model}/{model}_{event}_{time}')\n",
        "  result = m.predict(x_test)\n",
        "  predicted = []\n",
        "  for i,j in zip(result,y_test):\n",
        "    if i > 0.500:\n",
        "      #v=1\n",
        "      predicted.append(1)\n",
        "    else:\n",
        "      #v=0\n",
        "      predicted.append(0)\n",
        "\n",
        "  return y_test,np.array(predicted)"
      ],
      "execution_count": 38,
      "outputs": []
    },
    {
      "cell_type": "code",
      "metadata": {
        "id": "3HFXoE9x65ML"
      },
      "source": [
        "def write_results(line):\n",
        "  import csv\n",
        "  with open(f'{models_dir}/individual_model_results.csv', 'a', newline='') as file:\n",
        "    writer = csv.writer(file)\n",
        "    writer.write(line)\n",
        "    \n",
        "  "
      ],
      "execution_count": 39,
      "outputs": []
    },
    {
      "cell_type": "code",
      "metadata": {
        "id": "tpJ8aow0BIvw"
      },
      "source": [
        "def conclude_individual_results():\n",
        "  import csv\n",
        "  with open(f'{models_dir}/individual_model_results.csv', 'a',newline='') as file:\n",
        "    writer = csv.writer(file)\n",
        "    writer.writerow(['Model name','Event name','Time ','accuracy','precision','recall','f1_score','TP','TN','FP','FN'])\n",
        "  \n",
        "  \n",
        "  events = [0,1,2,3,4,5,6]\n",
        "  time = [120,300,600,1800,3600]\n",
        "  models = ['SimpleRNN','LSTM','BiLSTM','GRU','Simple_Dense']\n",
        "  events_names = [\"charliehebdo\", \"ferguson\", \"germanwings-crash\", \"gurlitt\", \"ottawashooting\", \"putinmissing\",\n",
        "                \"sydneysiege\"]\n",
        "  for m in models:\n",
        "    for e in events:\n",
        "      time_acc=[]\n",
        "      for t in time:\n",
        "        avg_acc=0\n",
        "        avg_prec=0\n",
        "        avg_recall=0\n",
        "        avg_f1 =0\n",
        "        for i in range(0,3):\n",
        "          expected,predicted = predict(m,e,t)\n",
        "          print(list(predicted),'  ',list(expected))\n",
        "          TP,TN,FP,FN = build_confusion_matrix(list(expected),list(predicted))\n",
        "          print('TP= ',TP,'  TN =',TN,'  FP= ',FP,' FN= ',FN)\n",
        "          try:\n",
        "            accuracy = (TN+TP) /(TN+TP+FN+FP)\n",
        "            precision = TP / (TP+FP)\n",
        "            recall = TP /(TP+FN)\n",
        "            f1_score = 2*((precision * recall)/(precision + recall))\n",
        "          except Exception:\n",
        "            print('ERROR DIVISION BY ZERO')\n",
        "            TP,TN,FP,FN =-1,-1,-1,-1  \n",
        "\n",
        "          avg_acc +=accuracy\n",
        "          avg_f1+=f1_score\n",
        "          avg_recall+=recall\n",
        "          avg_prec+=precision\n",
        "          import csv\n",
        "          with open(f'{models_dir}/individual_model_results.csv', 'a',newline='') as file:\n",
        "            writer = csv.writer(file)\n",
        "            writer.writerow([m,events_names[e],t,accuracy,precision,recall,f1_score,TP,TN,FP,FN])          \n",
        "          \n",
        "          print('accuracy = ',accuracy)\n",
        "          print('precision = ',precision)\n",
        "          print('recall = ',recall)\n",
        "          print('f1 score = ',f1_score)\n",
        "        import csv\n",
        "        with open(f'{models_dir}/individual_model_results.csv', 'a') as file:\n",
        "          writer = csv.writer(file)\n",
        "          writer.writerow(['average accuracy','average F1 score','average recall','average precision'])\n",
        "          writer.writerow([(avg_acc/3),(avg_f1/3),(avg_recall/3),(avg_prec/3)])\n",
        "          time_acc.append((avg_acc/3))\n",
        "    \n",
        "      print('sfdsd')\n",
        "      import csv\n",
        "      with open(f'{models_dir}/summary_accuracy.csv', 'a',newline='') as file:\n",
        "        writer = csv.writer(file)\n",
        "        writer.writerow([m,events_names[e]])\n",
        "        writer.writerow(time)\n",
        "        writer.writerow(time_acc)\n",
        "  "
      ],
      "execution_count": 41,
      "outputs": []
    },
    {
      "cell_type": "code",
      "metadata": {
        "colab": {
          "base_uri": "https://localhost:8080/",
          "height": 295
        },
        "id": "WYNgQ8nVLKRO",
        "outputId": "61685fc8-7da1-4327-d55c-76dcf98d42e0"
      },
      "source": [
        "if __name__ == \"__main__\":\n",
        "  #predicted,expected = Ensembler_1(0,120,'avg')\n",
        "  #print(result)\n",
        "  #print(list(predicted),'  ',list(expected))\n",
        "  \n",
        "  #SimpleRNN  LSTM  GRU BiLSTM TCNN\n",
        "  #train on 45 min\n",
        "  #draw graph which show which model outperformed all\n",
        "  #\n",
        "  #conclude_individual_results()\n",
        "  \n",
        "  #Simple Dense\n",
        "  time = [2,5,10,30,60]\n",
        "  #acc = \n",
        "  import matplotlib.pyplot as plt\n",
        "  plt.plot(time,[0.632850242,0.768361582,0.755368814,0.785289515,0.763630428], label='Simple Dense')\n",
        "  plt.plot(time,[0.657004831,\t0.751412429\t,0.795518207\t,0.789984351,0.757753836], label='Simple RNN')\n",
        "  plt.plot(time,[0.657004831,\t0.755178908\t,0.784313725\t,0.787793427\t,0.782892589], label='LSTM')\n",
        "  plt.plot(time,[0.710144928,\t0.760828625,\t0.77124183\t,0.801251956\t,0.789422135], label='Bi-LSTM')\n",
        "  plt.plot(time,[0.632850242,\t0.785310734,\t0.778711485\t,0.792801252,\t0.786647078], label='GRU')\n",
        "  \n",
        "  x_axis = 'time stamp'\n",
        "  y_axis = 'accuracy'\n",
        "  plt.xlabel('Time difference')\n",
        "  plt.ylabel('Accuracy')\n",
        "  plt.title('All models on charlihebdo Event')\n",
        "  plt.grid(True)\n",
        "  plt.legend()\n",
        "\n",
        "\n",
        "\n",
        "  "
      ],
      "execution_count": 47,
      "outputs": [
        {
          "output_type": "display_data",
          "data": {
            "image/png": "[encoded data removed]",
            "text/plain": [
              "<Figure size 432x288 with 1 Axes>"
            ]
          },
          "metadata": {
            "tags": [],
            "needs_background": "light"
          }
        }
      ]
    },
    {
      "cell_type": "code",
      "metadata": {
        "id": "STl3hy94iaH-"
      },
      "source": [
        "'''x_test,y_test,x_train,y_train = pre_process(4,600)\n",
        "    model5_A = build_tcnn(x_train,y_train,SAVE_MODEL_AFTER_TRAINING ,4,600 ,120)\n",
        "    for e in event:\n",
        "      for t in time:\n",
        "        x_test,y_test,x_train,y_train = pre_process(e,t)  \n",
        "        if t== 1800 or t == 3600:\n",
        "          epoch = 120\n",
        "        else:\n",
        "          epoch=300  \n",
        "        epoch = 120\n",
        "        #model1 = build_LSTM(x_train,y_train,SAVE_MODEL_AFTER_TRAINING    ,e,t  ,epoch)\n",
        "        #model2 = build_GRU(x_train,y_train,SAVE_MODEL_AFTER_TRAINING ,e,t ,epoch)\n",
        "        #model3 = build_bi_LSTM(x_train,y_train,SAVE_MODEL_AFTER_TRAINING ,e,t ,epoch)\n",
        "        #model4 = build_RNN(x_train,y_train,SAVE_MODEL_AFTER_TRAINING ,e,t ,epoch)\n",
        "        #Build_Simple_Dense(x_train,y_train,SAVE_MODEL_AFTER_TRAINING ,e,t ,epoch)    \n",
        "        #model5_A = build_tcnn(x_train,y_train,SAVE_MODEL_AFTER_TRAINING ,e,t ,epoch)    \n",
        "    '''\n"
      ],
      "execution_count": null,
      "outputs": []
    },
    {
      "cell_type": "code",
      "metadata": {
        "id": "Fb0w4Ivkh-xf"
      },
      "source": [
        "'''\n",
        "    # JUST CHANGE PARAMETERS HERE\n",
        "    # charliehebdo=0, ferguson=1, germanwings-crash=2, gurlitt=3, ottawashooting=4, putinmissing=5,sydneysiege=6\n",
        "\n",
        "    #=====================\n",
        "    EVENT = 6\n",
        "    # in seconds  120,300,600,1800,3600\n",
        "    TIME = 120\n",
        "    t=[120,300,600,1800,3600]\n",
        "    e = [1,2,3,4,5,6]\n",
        "    RUN_FROM_SAVED_MODELS = False#True\n",
        "    \n",
        "    SAVE_MODEL_AFTER_TRAINING=True\n",
        "        #[\"charliehebdo\", \"ferguson\", \"germanwings-crash\", \"gurlitt\", \"ottawashooting\", \"putinmissing\",\"sydneysiege\"]\n",
        "    # time in seocnds\n",
        "    \n",
        "    data = load_data(event = EVENT, time=TIME)\n",
        "    \n",
        "    # splitted into 70 - 30\n",
        "    train, test = train_test_split(data, test_size=0.3)\n",
        "    \n",
        "    x_train = train.drop(columns=[\"status\"])\n",
        "    y_train = train[\"status\"] \n",
        "\n",
        "    scaler =  MinMaxScaler(feature_range=(0,1))\n",
        "    x_train = scaler.fit_transform(x_train)\n",
        "\n",
        "\n",
        "    x_test = test.drop(columns=[\"status\"])\n",
        "    y_test = test[\"status\"] \n",
        "\n",
        "    scaler =  MinMaxScaler(feature_range=(0,1))\n",
        "    x_test = scaler.fit_transform(x_test)\n",
        "\n",
        "    #pdb.set_trace()\n",
        "\n",
        "    # reshaping\n",
        "    x_train = np.reshape(x_train, (x_train.shape[0], 1, x_train.shape[1]))\n",
        "    x_test = np.reshape(x_test, (x_test.shape[0], 1, x_test.shape[1]))\n",
        "    \n",
        "    # Running and Saving Models\n",
        "    #model1 = build_LSTM(x_train,y_train,SAVE_MODEL_AFTER_TRAINING    ,EVENT,TIME,60 )\n",
        "    #model2 = build_GRU(x_train,y_train,SAVE_MODEL_AFTER_TRAINING     ,EVENT,TIME  ,60)\n",
        "    #model3 = build_bi_LSTM(x_train,y_train,SAVE_MODEL_AFTER_TRAINING ,EVENT,TIME  ,60)\n",
        "    #model4 = build_RNN(x_train,y_train,SAVE_MODEL_AFTER_TRAINING     ,EVENT,TIME  ,60)    \n",
        "    #model5_A = build_tcnn(x_train,y_train,SAVE_MODEL_AFTER_TRAINING    ,EVENT,TIME  ,60)\n",
        "    \n",
        "    for eve in e:\n",
        "      for i in t:\n",
        "        model2 = build_GRU(x_train,y_train,SAVE_MODEL_AFTER_TRAINING     ,eve,i  ,300)\n",
        "        model3 = build_bi_LSTM(x_train,y_train,SAVE_MODEL_AFTER_TRAINING ,eve,i  ,300)\n",
        "        model4 = build_RNN(x_train,y_train,SAVE_MODEL_AFTER_TRAINING     ,eve,i  ,300)    \n",
        "    \n",
        "\n",
        "\n",
        "\n",
        "    #\n",
        "    #if RUN_FROM_SAVED_MODELS == True:\n",
        "    #    models = load_models(EVENT,TIME)\n",
        "    #\n",
        "    #else: # use above build models \n",
        "    #    models = []\n",
        "    #    models.append(model1)\n",
        "    #    models.append(model2)\n",
        "    #    models.append(model3)\n",
        "    #    models.append(model4)\n",
        "    #    #models.append(model5)\n",
        "    #result =  Ensembler_result(models,x_test)\n",
        "    #r = (result == y_test).sum()\n",
        "    #acc = r/len(y_test)\n",
        "    #\n",
        "    #print(result)\n",
        "    #print(acc)\n",
        "\n",
        "    #TP,TN,FP,FN = build_confusion_matrix(y_test,result)\n",
        "    #\n",
        "    #accuracy = (TN+TP) /(TN+TP+FN+FP)\n",
        "    #precision = TP / (TP+FP)\n",
        "    #recall = TP /(TP+FN)\n",
        "    #f1_score = 2*((precision * recall)/(precision + recall))\n",
        "    #print('accuracy = ',accuracy)\n",
        "    #print('precision = ',precision)\n",
        "    #print('recall = ',recall)\n",
        "    #print('f1 score = ',f1_score)\n",
        "    '''"
      ],
      "execution_count": null,
      "outputs": []
    }
  ]
}