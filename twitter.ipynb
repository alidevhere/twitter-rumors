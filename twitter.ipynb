{
  "nbformat": 4,
  "nbformat_minor": 0,
  "metadata": {
    "colab": {
      "name": "twitter.ipynb",
      "provenance": [],
      "collapsed_sections": [],
      "include_colab_link": true
    },
    "kernelspec": {
      "name": "python3",
      "display_name": "Python 3"
    }
  },
  "cells": [
    {
      "cell_type": "markdown",
      "metadata": {
        "id": "view-in-github",
        "colab_type": "text"
      },
      "source": [
        "<a href=\"https://colab.research.google.com/github/programmingLover12/twitter/blob/main/twitter.ipynb\" target=\"_parent\"><img src=\"https://colab.research.google.com/assets/colab-badge.svg\" alt=\"Open In Colab\"/></a>"
      ]
    },
    {
      "cell_type": "code",
      "metadata": {
        "id": "NW714p7mSjgW",
        "colab": {
          "base_uri": "https://localhost:8080/"
        },
        "outputId": "cb56e41b-2e9e-470b-8221-352af37bf27c"
      },
      "source": [
        "from google.colab import drive\n",
        "drive.mount('/content/drive')"
      ],
      "execution_count": 1,
      "outputs": [
        {
          "output_type": "stream",
          "text": [
            "Mounted at /content/drive\n"
          ],
          "name": "stdout"
        }
      ]
    },
    {
      "cell_type": "code",
      "metadata": {
        "colab": {
          "base_uri": "https://localhost:8080/"
        },
        "id": "2urrY3qhTKeu",
        "outputId": "e6df64df-b512-4994-82dd-f0a8f732c9ac"
      },
      "source": [
        "cd /content/drive/MyDrive"
      ],
      "execution_count": 2,
      "outputs": [
        {
          "output_type": "stream",
          "text": [
            "/content/drive/MyDrive\n"
          ],
          "name": "stdout"
        }
      ]
    },
    {
      "cell_type": "code",
      "metadata": {
        "id": "IQwQ_HpITLgy",
        "colab": {
          "base_uri": "https://localhost:8080/"
        },
        "outputId": "44d85125-fbaf-4666-8d5e-da37c4fddcf6"
      },
      "source": [
        "# 0 = non- rumor , 1 = rumor\n",
        "import pandas as pd\n",
        "import numpy as np\n",
        "from keras.models import Sequential\n",
        "from keras.layers import Dense,SimpleRNN,LSTM,GRU,Bidirectional\n",
        "# adding temporal cnn\n",
        "#from tcn import TCN, tcn_full_summary\n",
        "from sklearn.preprocessing import MinMaxScaler\n",
        "from keras.models import load_model\n",
        "from tensorflow import keras\n",
        "from tensorflow.keras import layers\n",
        "from  sklearn.model_selection import train_test_split\n",
        "# adding temporal cnn\n",
        "!pip install keras-tcn --no-dependencies\n",
        "from tcn import TCN, tcn_full_summary\n",
        "models_dir= \"/content/drive/MyDrive/CSV_Files/Models\""
      ],
      "execution_count": 3,
      "outputs": [
        {
          "output_type": "stream",
          "text": [
            "Collecting keras-tcn\n",
            "  Downloading https://files.pythonhosted.org/packages/84/31/579d2dccda0a7d5ef5839b3f73257a5209dffafd319f6d1cebb16007d3fc/keras_tcn-3.4.0-py2.py3-none-any.whl\n",
            "Installing collected packages: keras-tcn\n",
            "Successfully installed keras-tcn-3.4.0\n"
          ],
          "name": "stdout"
        }
      ]
    },
    {
      "cell_type": "code",
      "metadata": {
        "id": "ue8wlD6eTNwK"
      },
      "source": [
        "def load_data(event,time=3600):\n",
        "    events = [\"charliehebdo\", \"ferguson\", \"germanwings-crash\", \"gurlitt\", \"ottawashooting\", \"putinmissing\",\n",
        "                \"sydneysiege\"]\n",
        "    data = pd.read_csv(f'CSV_Files/{events[event]}.csv', names=['timeDiff', 'status', 'Freq'], header=0)\n",
        "    \n",
        "    data = data[data['timeDiff'] <= time]\n",
        "    print(data)\n",
        "    return data\n"
      ],
      "execution_count": 4,
      "outputs": []
    },
    {
      "cell_type": "code",
      "metadata": {
        "id": "_NcInooWAQ0M"
      },
      "source": [
        "def build_confusion_matrix(test,predict):\n",
        "\n",
        "    TP = 0\n",
        "    TN = 0\n",
        "    FP = 0\n",
        "    FN = 0\n",
        "\n",
        "    for i in range(len(predict)):\n",
        "\n",
        "        if test[i] == predict[i] == 1:\n",
        "            TP = TP + 1\n",
        "        elif test[i] == predict[i] == 0:\n",
        "            TN = TN + 1\n",
        "        elif test[i] != predict[i] and  predict[i] == 0:\n",
        "            FN = FN + 1\n",
        "        elif test[i] != predict[i] and  predict[i] == 1:\n",
        "            FP = FP + 1\n",
        "\n",
        "    return (TP,TN,FP,FN)\n"
      ],
      "execution_count": 5,
      "outputs": []
    },
    {
      "cell_type": "code",
      "metadata": {
        "id": "7Plwec_pTQRi"
      },
      "source": [
        "def split_train_test(training):\n",
        "    scaler =  MinMaxScaler(feature_range=(0,1))\n",
        "    training = scaler.fit_transform(training)\n",
        "    train, test = train_test_split(training, test_size=0.3)\n",
        "    return train, test\n"
      ],
      "execution_count": 6,
      "outputs": []
    },
    {
      "cell_type": "code",
      "metadata": {
        "id": "QMBAtZiUT9bp"
      },
      "source": [
        "def build_tcnn(x_train,y_train,save, event_name,time,epoch=50):\n",
        "    #!cd /content/drive/MyDrive/CSV_Files/Models\n",
        "    seq = len(x_train)\n",
        "    units = int((seq +2) / 2)\n",
        "    look_back = 2\n",
        "\n",
        "    model = Sequential() \n",
        "    model.add(TCN(units ,input_shape=(x_train.shape[1], look_back)) )\n",
        "    model.add(Dense(1))\n",
        "    model.compile(optimizer='adam', loss='mse',metrics=[\"accuracy\"])\n",
        "\n",
        "    tcn_full_summary(model, expand_residual_blocks=False)\n",
        "    model.fit(x_train, y_train, epochs=epoch)#, validation_split=0.2\n",
        "\n",
        "    if save == True: \n",
        "        model.save(f'{models_dir}/TCNN/TCNN_{event_name}_{time}')\n",
        "    return model\n"
      ],
      "execution_count": 7,
      "outputs": []
    },
    {
      "cell_type": "code",
      "metadata": {
        "id": "6uvYNKrlUfWI"
      },
      "source": [
        "\n",
        "def build_LSTM(x_train,y_train,save,event_name,time,epoch=300):\n",
        "    #,x_test, y_test\n",
        "    seq = len(x_train)\n",
        "    units = int((seq +2) / 2)\n",
        "    look_back = 2\n",
        "    model = Sequential()\n",
        "    model.add(LSTM(units, input_shape = (x_train.shape[1], look_back)))\n",
        "    model.add(Dense(1,activation='sigmoid'))\n",
        "    model.compile( loss='binary_crossentropy', optimizer='adam',metrics=[\"accuracy\"])\n",
        "    model.summary()\n",
        "    model.fit(x_train, y_train, epochs=epoch, batch_size=32, verbose=2)\n",
        "    \n",
        "    if save == True: \n",
        "        model.save(f'{models_dir}/LSTM/LSTM_{event_name}_{time}')\n",
        "    return model\n"
      ],
      "execution_count": 8,
      "outputs": []
    },
    {
      "cell_type": "code",
      "metadata": {
        "id": "odxNhp8-VSW9"
      },
      "source": [
        "def build_RNN(x_train,y_train,save,event_name,time,epoch=300):\n",
        "    seq = len(x_train)\n",
        "    units = int((seq +2) / 2)\n",
        "    look_back =2\n",
        "\n",
        "    model = Sequential()\n",
        "    model.add(SimpleRNN(units, input_shape = (x_train.shape[1], look_back)))\n",
        "    model.add(Dense(1,activation='sigmoid'))\n",
        "    model.compile( loss='binary_crossentropy', optimizer='adam',metrics=[\"accuracy\"])\n",
        "    model.summary()\n",
        "    model.fit(x_train, y_train, epochs=epoch, batch_size=32, verbose=2)\n",
        "\n",
        "    if save==True:        \n",
        "        model.save(f'{models_dir}/SimpleRNN/SimpleRNN_{event_name}_{time}')\n",
        "    return model\n"
      ],
      "execution_count": 9,
      "outputs": []
    },
    {
      "cell_type": "code",
      "metadata": {
        "id": "4Vt_TsFbVUXe"
      },
      "source": [
        "def build_GRU(x_train, y_train,save,event_name,time,epoch=300):\n",
        "    seq = len(x_train)\n",
        "    units = int((seq +2) / 2)\n",
        "    look_back =2\n",
        "    model = keras.Sequential()\n",
        "    model.add(GRU(units, input_shape = (x_train.shape[1], look_back)))\n",
        "    model.add(Dense(1,activation='sigmoid'))\n",
        "    model.compile( loss='binary_crossentropy', optimizer='adam',metrics=[\"accuracy\"])\n",
        "    model.summary()\n",
        "    model.fit(x_train, y_train, epochs=epoch, batch_size=32, verbose=2)\n",
        "    \n",
        "    if save==True:\n",
        "        model.save(f'{models_dir}/GRU/GRU_{event_name}_{time}')\n",
        "    return model\n"
      ],
      "execution_count": 10,
      "outputs": []
    },
    {
      "cell_type": "code",
      "metadata": {
        "id": "dY1lBjDjVWVs"
      },
      "source": [
        "def build_bi_LSTM(x_train, y_train,save,event_name,time,epoch=300):\n",
        "    seq = len(x_train)\n",
        "    units = int((seq +2) / 2)\n",
        "    look_back =2\n",
        "    \n",
        "    model = keras.Sequential()\n",
        "    model.add(Bidirectional(LSTM(units),input_shape = (x_train.shape[1], look_back) ))\n",
        "    model.add(Dense(1,activation='sigmoid'))\n",
        "    model.compile( loss='mean_squared_error', optimizer='adam',metrics=[\"accuracy\"])\n",
        "    model.summary()\n",
        "\n",
        "    model.fit(x_train, y_train, epochs=epoch, batch_size=32, verbose=2)\n",
        "    \n",
        "    if save==True:\n",
        "        model.save(f'{models_dir}/BiLSTM/BiLSTM_{event_name}_{time}')\n",
        "    return model\n"
      ],
      "execution_count": 11,
      "outputs": []
    },
    {
      "cell_type": "code",
      "metadata": {
        "id": "2pV4bQluk7l8"
      },
      "source": [
        "def Build_Simple_Dense(x_train, y_train,save,event_name,time,epoch=300):\n",
        "    seq = len(x_train)\n",
        "    units = int((seq +2) / 2)\n",
        "    look_back =2\n",
        "    \n",
        "    model = Sequential()\n",
        "    model.add(Dense(units,input_shape = (x_train.shape[1], look_back)))\n",
        "    model.add(Dense(1,activation='sigmoid'))\n",
        "    model.compile( loss='binary_crossentropy', optimizer='adam',metrics=[\"accuracy\"])\n",
        "    model.summary()\n",
        "    model.fit(x_train, y_train, epochs=epoch, batch_size=32, verbose=2)\n",
        "    \n",
        "    if save==True:\n",
        "        model.save(f'{models_dir}/Simple_Dense/Simple_Dense_{event_name}_{time}')\n",
        "    return model"
      ],
      "execution_count": 12,
      "outputs": []
    },
    {
      "cell_type": "code",
      "metadata": {
        "id": "sXAuA8owVYP9"
      },
      "source": [
        "def load_models(event_name,time):\n",
        "    # loading mdoel\n",
        "    models = []\n",
        "    models.append(keras.models.load_model(f'{models_dir}/LSTM/LSTM_{event_name}_{time}'))\n",
        "    models.append(keras.models.load_model(f'{models_dir}/SimpleRNN/SimpleRNN_{event_name}_{time}') )\n",
        "    models.append(keras.models.load_model(f'{models_dir}/GRU/GRU_{event_name}_{time}'))\n",
        "    models.append(keras.models.load_model(f'{models_dir}/BiLSTM/BiLSTM_{event_name}_{time}'))\n",
        "    models.append(keras.models.load_model(f'{models_dir}/TCNN/TCNN_{event_name}_{time}'))\n",
        "    return models\n"
      ],
      "execution_count": 13,
      "outputs": []
    },
    {
      "cell_type": "code",
      "metadata": {
        "id": "ys5DCbaf4bBl"
      },
      "source": [
        "def load_implementaion_A(event_name,time):\n",
        "    models = []\n",
        "    models.append(keras.models.load_model(f'{models_dir}/LSTM/LSTM_{event_name}_{time}'))\n",
        "    models.append(keras.models.load_model(f'{models_dir}/SimpleRNN/SimpleRNN_{event_name}_{time}') )\n",
        "    models.append(keras.models.load_model(f'{models_dir}/GRU/GRU_{event_name}_{time}'))\n",
        "    models.append(keras.models.load_model(f'{models_dir}/BiLSTM/BiLSTM_{event_name}_{time}'))\n",
        "    models.append(keras.models.load_model(f'{models_dir}/TCNN/TCNN_{event_name}_{time}'))\n",
        "    \n",
        "    x_test,y_test,_,_ = pre_process(event_name,time)\n",
        "    return models,x_test,y_test\n",
        "\n",
        "\n",
        "def load_implementaion_B(event_name,time):\n",
        "    models = []\n",
        "    models.append(keras.models.load_model(f'{models_dir}/LSTM/LSTM_{event_name}_{time}'))\n",
        "    models.append(keras.models.load_model(f'{models_dir}/SimpleRNN/SimpleRNN_{event_name}_{time}') )\n",
        "    models.append(keras.models.load_model(f'{models_dir}/GRU/GRU_{event_name}_{time}'))\n",
        "    models.append(keras.models.load_model(f'{models_dir}/BiLSTM/BiLSTM_{event_name}_{time}'))\n",
        "    models.append(keras.models.load_model(f'{models_dir}/Simple_Dense/Simple_Dense_{event_name}_{time}'))\n",
        "    \n",
        "    x_test,y_test,_,_ = pre_process(event_name,time)\n",
        "    return models,x_test,y_test\n"
      ],
      "execution_count": 14,
      "outputs": []
    },
    {
      "cell_type": "code",
      "metadata": {
        "id": "Ei1tyyo0Va-N"
      },
      "source": [
        "def Ensembler_1(event_name,time,method):\n",
        "    models = []\n",
        "    models.append(keras.models.load_model(f'{models_dir}/LSTM/LSTM_{event_name}_{time}'))\n",
        "    models.append(keras.models.load_model(f'{models_dir}/SimpleRNN/SimpleRNN_{event_name}_{time}') )\n",
        "    models.append(keras.models.load_model(f'{models_dir}/GRU/GRU_{event_name}_{time}'))\n",
        "    models.append(keras.models.load_model(f'{models_dir}/BiLSTM/BiLSTM_{event_name}_{time}'))\n",
        "    models.append(keras.models.load_model(f'{models_dir}/Simple_Dense/Simple_Dense_{event_name}_{time}'))\n",
        "    \n",
        "    x_test,expected,_,_ = pre_process(event_name,time)\n",
        "\n",
        "    array = None\n",
        "    for i,model in enumerate(models):\n",
        "        if array is None:\n",
        "            array = model.predict(x_test)\n",
        "        elif i == 4:\n",
        "            img = model.predict(x_test)\n",
        "            new_img = img.reshape((img.shape[0]*img.shape[1]),img.shape[2])\n",
        "            array = np.append(array,new_img, axis=1)\n",
        "            \n",
        "        else:\n",
        "            a = model.predict(x_test)\n",
        "            array = np.append(array,a, axis=1)\n",
        "    \n",
        "    result = []\n",
        "    \n",
        "    if method == 'vote':\n",
        "    \n",
        "      for row in iter(array):\n",
        "          if (row > 0.50).sum() >=3:\n",
        "              result.append(1)\n",
        "          else:\n",
        "              result.append(0)\n",
        "    \n",
        "    elif method == 'avg':\n",
        "    \n",
        "      for row in iter(array):\n",
        "          avg = (row[0]+row[1]+row[2]+row[3]+row[4])/5\n",
        "          \n",
        "          if avg > 0.50:\n",
        "            result.append(1)   \n",
        "          else:\n",
        "            result.append(0)\n",
        "              \n",
        "    return np.array(result),expected"
      ],
      "execution_count": 15,
      "outputs": []
    },
    {
      "cell_type": "code",
      "metadata": {
        "id": "DKGjfQ0rVRaL"
      },
      "source": [
        "def pre_process(EVENT,TIME):\n",
        "    data = load_data(event = EVENT, time=TIME)\n",
        "    \n",
        "    # splitted into 70 - 30\n",
        "    train, test = train_test_split(data, test_size=0.3)\n",
        "    \n",
        "    x_train = train.drop(columns=[\"status\"])\n",
        "    y_train = train[\"status\"] \n",
        "\n",
        "    scaler =  MinMaxScaler(feature_range=(0,1))\n",
        "    x_train = scaler.fit_transform(x_train)\n",
        "\n",
        "\n",
        "    x_test = test.drop(columns=[\"status\"])\n",
        "    y_test = test[\"status\"] \n",
        "\n",
        "    scaler =  MinMaxScaler(feature_range=(0,1))\n",
        "    x_test = scaler.fit_transform(x_test)\n",
        "\n",
        "    #pdb.set_trace()\n",
        "\n",
        "    # reshaping\n",
        "    x_train = np.reshape(x_train, (x_train.shape[0], 1, x_train.shape[1]))\n",
        "    x_test = np.reshape(x_test, (x_test.shape[0], 1, x_test.shape[1]))\n",
        "\n",
        "    return x_test,y_test,x_train,y_train\n"
      ],
      "execution_count": 16,
      "outputs": []
    },
    {
      "cell_type": "code",
      "metadata": {
        "id": "izz3XpNpfTu0"
      },
      "source": [
        "def predict(model,event,time):\n",
        "  x_test,y_test,x_train,y_train = pre_process(event,time)\n",
        "  m = keras.models.load_model(f'{models_dir}/{model}/{model}_{event}_{time}')\n",
        "  result = m.predict(x_test)\n",
        "  print(result.shape)\n",
        "  print(result)\n",
        "  predicted = []\n",
        "  for i,j in zip(result,y_test):\n",
        "    if i > 0.500:\n",
        "      #v=1\n",
        "      predicted.append(1)\n",
        "    else:\n",
        "      #v=0\n",
        "      predicted.append(0)\n",
        "\n",
        "  return y_test,np.array(predicted)"
      ],
      "execution_count": 17,
      "outputs": []
    },
    {
      "cell_type": "code",
      "metadata": {
        "id": "3HFXoE9x65ML"
      },
      "source": [
        "def write_results(line):\n",
        "  import csv\n",
        "  with open(f'{models_dir}/individual_model_results.csv', 'a', newline='') as file:\n",
        "    writer = csv.writer(file)\n",
        "    writer.write(line)\n",
        "    \n",
        "  "
      ],
      "execution_count": 18,
      "outputs": []
    },
    {
      "cell_type": "code",
      "metadata": {
        "id": "tpJ8aow0BIvw"
      },
      "source": [
        "def conclude_individual_results():\n",
        "  import csv\n",
        "  with open(f'{models_dir}/individual_model_results.csv', 'a',newline='') as file:\n",
        "    writer = csv.writer(file)\n",
        "    writer.writerow(['Model name','Event name','Time ','accuracy','precision','recall','f1_score','TP','TN','FP','FN'])\n",
        "  \n",
        "  \n",
        "  events = [0,1,2,3,4,5,6]\n",
        "  time = [120,300,600,1800,3600]\n",
        "  models = ['SimpleRNN','LSTM','BiLSTM','GRU','Simple_Dense']\n",
        "  events_names = [\"charliehebdo\", \"ferguson\", \"germanwings-crash\", \"gurlitt\", \"ottawashooting\", \"putinmissing\",\n",
        "                \"sydneysiege\"]\n",
        "  for m in models:\n",
        "    for e in events:\n",
        "      time_acc=[]\n",
        "      for t in time:\n",
        "        avg_acc=0\n",
        "        avg_prec=0\n",
        "        avg_recall=0\n",
        "        avg_f1 =0\n",
        "        for i in range(0,3):\n",
        "          expected,predicted = predict(m,e,t)\n",
        "          print(list(predicted),'  ',list(expected))\n",
        "          TP,TN,FP,FN = build_confusion_matrix(list(expected),list(predicted))\n",
        "          print('TP= ',TP,'  TN =',TN,'  FP= ',FP,' FN= ',FN)\n",
        "          try:\n",
        "            accuracy = (TN+TP) /(TN+TP+FN+FP)\n",
        "            precision = TP / (TP+FP)\n",
        "            recall = TP /(TP+FN)\n",
        "            f1_score = 2*((precision * recall)/(precision + recall))\n",
        "          except Exception:\n",
        "            print('ERROR DIVISION BY ZERO')\n",
        "            TP,TN,FP,FN =-1,-1,-1,-1  \n",
        "\n",
        "          avg_acc +=accuracy\n",
        "          avg_f1+=f1_score\n",
        "          avg_recall+=recall\n",
        "          avg_prec+=precision\n",
        "          import csv\n",
        "          with open(f'{models_dir}/individual_model_results.csv', 'a',newline='') as file:\n",
        "            writer = csv.writer(file)\n",
        "            writer.writerow([m,events_names[e],t,accuracy,precision,recall,f1_score,TP,TN,FP,FN])          \n",
        "          \n",
        "          print('accuracy = ',accuracy)\n",
        "          print('precision = ',precision)\n",
        "          print('recall = ',recall)\n",
        "          print('f1 score = ',f1_score)\n",
        "        import csv\n",
        "        with open(f'{models_dir}/individual_model_results.csv', 'a') as file:\n",
        "          writer = csv.writer(file)\n",
        "          writer.writerow(['average accuracy','average F1 score','average recall','average precision'])\n",
        "          writer.writerow([(avg_acc/3),(avg_f1/3),(avg_recall/3),(avg_prec/3)])\n",
        "          time_acc.append((avg_acc/3))\n",
        "    \n",
        "      print('sfdsd')\n",
        "      import csv\n",
        "      with open(f'{models_dir}/summary_accuracy.csv', 'a',newline='') as file:\n",
        "        writer = csv.writer(file)\n",
        "        writer.writerow([m,events_names[e]])\n",
        "        writer.writerow(time)\n",
        "        writer.writerow(time_acc)\n",
        "  "
      ],
      "execution_count": 19,
      "outputs": []
    },
    {
      "cell_type": "code",
      "metadata": {
        "id": "282UzSvNnAo1"
      },
      "source": [
        "def plot_charliehebdo():\n",
        "    time = [2,5,10,30,60]\n",
        "    import matplotlib.pyplot as plt\n",
        "    plt.plot(time,[0.632850242,0.768361582,0.755368814,0.785289515,0.763630428], label='Simple Dense')\n",
        "    plt.plot(time,[0.657004831,\t0.751412429\t,0.795518207\t,0.789984351,0.757753836], label='Simple RNN')\n",
        "    plt.plot(time,[0.657004831,\t0.755178908\t,0.784313725\t,0.787793427\t,0.782892589], label='LSTM')\n",
        "    plt.plot(time,[0.710144928,\t0.760828625,\t0.77124183\t,0.801251956\t,0.789422135], label='Bi-LSTM')\n",
        "    plt.plot(time,[0.632850242,\t0.785310734,\t0.778711485\t,0.792801252,\t0.786647078], label='GRU')\n",
        "    plt.plot(time,[0.710144928,0.717514124,0.778711485,0,0], label='TCNN')\n",
        "    \n",
        "    \n",
        "    x_axis = 'time stamp'\n",
        "    y_axis = 'accuracy'\n",
        "    plt.xlabel('Time difference')\n",
        "    plt.ylabel('Accuracy')\n",
        "    plt.title('All models on charlihebdo Event')\n",
        "    plt.grid(True)\n",
        "    plt.legend()\n"
      ],
      "execution_count": 39,
      "outputs": []
    },
    {
      "cell_type": "code",
      "metadata": {
        "id": "Wh25kHdxnAWo"
      },
      "source": [
        "def plot_ferguson():\n",
        "    time = [2,5,10,30,60]\n",
        "    import matplotlib.pyplot as plt\n",
        "    plt.plot(time,[0.592039801,\t0.549808429,\t0.646666667\t,0.624327957\t,0.554626533], label='Simple Dense')\n",
        "    plt.plot(time,[0.55721393\t,0.593869732\t,0.586666667\t,0.552755376\t,0.614083984], label='Simple RNN')\n",
        "    plt.plot(time,[0.567164179,\t0.607279693,\t0.622857143,\t0.64280914\t,0.648457822], label='LSTM')\n",
        "    plt.plot(time,[0.696517413\t,0.626436782\t,0.662857143\t,0.660282258\t,0.564102564], label='Bi-LSTM')\n",
        "    plt.plot(time,[0.606965174\t,0.676245211\t,0.656190476\t,0.632728495\t,0.633036046], label='GRU')\n",
        "    plt.plot(time,[0.567164179,0.522988506,0.674285714,0,0], label='TCNN')    \n",
        "    x_axis = 'time stamp'\n",
        "    y_axis = 'accuracy'\n",
        "    plt.xlabel('Time difference')\n",
        "    plt.ylabel('Accuracy')\n",
        "    plt.title('All models on Ferguson')\n",
        "    plt.grid(True)\n",
        "    plt.legend()\n"
      ],
      "execution_count": 41,
      "outputs": []
    },
    {
      "cell_type": "code",
      "metadata": {
        "id": "N__m7uwO3I6z",
        "colab": {
          "base_uri": "https://localhost:8080/",
          "height": 295
        },
        "outputId": "c10e41de-a553-47df-96f7-dbff11a7dce8"
      },
      "source": [
        "def plot_germanwings():\n",
        "    time = [2,5,10,30,60]\n",
        "    import matplotlib.pyplot as plt\n",
        "    plt.plot(time,[0.514619883\t,0.534216336\t,0.522222222\t,0.545410628\t,0.523361227], label='Simple Dense')\n",
        "    plt.plot(time,[0.461988304,\t0.51214128\t,0.538888889\t,0.549275362\t,0.544979079], label='Simple RNN')\n",
        "    plt.plot(time,[0.514619883\t,0.527593819\t,0.543333333\t,0.528985507\t,0.533472803], label='LSTM')\n",
        "    plt.plot(time,[0.444444444\t,0.496688742\t,0.533333333\t,0.538164251\t,0.539748954], label='Bi-LSTM')\n",
        "    plt.plot(time,[0.637426901,\t0.51214128\t,0.543333333\t,0.516908213\t,0.531380753], label='GRU')\n",
        "    plt.plot(time,[0.526315789,0.529801325,0.57,0,0], label='TCNN')\n",
        "    x_axis = 'time stamp'\n",
        "    y_axis = 'accuracy'\n",
        "    plt.xlabel('Time difference')\n",
        "    plt.ylabel('Accuracy')\n",
        "    plt.title('All models on Germanwing - Crash')\n",
        "    plt.grid(True)\n",
        "    plt.legend()\n",
        "plot_germanwings()"
      ],
      "execution_count": 44,
      "outputs": [
        {
          "output_type": "display_data",
          "data": {
            "image/png": "[encoded data removed]",
            "text/plain": [
              "<Figure size 432x288 with 1 Axes>"
            ]
          },
          "metadata": {
            "tags": [],
            "needs_background": "light"
          }
        }
      ]
    },
    {
      "cell_type": "code",
      "metadata": {
        "id": "vKDhOwy55Yi8",
        "colab": {
          "base_uri": "https://localhost:8080/",
          "height": 295
        },
        "outputId": "e7bf9239-8be8-417e-eee5-89f6f6c4ae32"
      },
      "source": [
        "def plot_gurlit():\n",
        "    time = [2,5,10,30,60]\n",
        "    import matplotlib.pyplot as plt\n",
        "    plt.plot(time,[0.666666667\t,0.5\t,0.545454545\t,0.764705882\t,0.719298246], label='Simple Dense')\n",
        "    plt.plot(time,[0.666666667,\t0.444444444,\t0.606060606,\t0.803921569\t,0.807017544], label='Simple RNN')\n",
        "    plt.plot(time,[0.5\t,0.5,\t0.727272727,\t0.823529412,\t0.824561404], label='LSTM')\n",
        "    plt.plot(time,[0.5\t,0.555555556\t,0.393939394\t,0.764705882,\t0.771929825], label='Bi-LSTM')\n",
        "    plt.plot(time,[0.166666667\t,0.444444444,\t0.575757576\t,0.745098039,\t0.684210526], label='GRU')\n",
        "    plt.plot(time,[0.5,0.5,0.454545455,0,0], label='TCNN')\n",
        "    x_axis = 'time stamp'\n",
        "    y_axis = 'accuracy'\n",
        "    plt.xlabel('Time difference')\n",
        "    plt.ylabel('Accuracy')\n",
        "    plt.title('All models on Gurlit')\n",
        "    plt.grid(True)\n",
        "    plt.legend()\n",
        "plot_gurlit()"
      ],
      "execution_count": 46,
      "outputs": [
        {
          "output_type": "display_data",
          "data": {
            "image/png": "[encoded data removed]",
            "text/plain": [
              "<Figure size 432x288 with 1 Axes>"
            ]
          },
          "metadata": {
            "tags": [],
            "needs_background": "light"
          }
        }
      ]
    },
    {
      "cell_type": "code",
      "metadata": {
        "id": "laeeBJaH8LID",
        "colab": {
          "base_uri": "https://localhost:8080/",
          "height": 295
        },
        "outputId": "56ab8342-0d28-4dc4-b830-aac12c54da33"
      },
      "source": [
        "def plot_ottawa_shooting():\n",
        "    time = [2,5,10,30,60]\n",
        "    import matplotlib.pyplot as plt\n",
        "    plt.plot(time,[0.524509804,\t0.539047619,\t0.560344828,\t0.555312158,\t0.543617998], label='Simple Dense')\n",
        "    plt.plot(time,[0.573529412,\t0.565714286,\t0.568965517,\t0.520627966,\t0.552341598], label='Simple RNN')\n",
        "    plt.plot(time,[0.519607843,\t0.588571429,\t0.557471264,\t0.556042351,\t0.553948577], label='LSTM')\n",
        "    plt.plot(time,[0.529411765,\t0.584761905,\t0.554597701,\t0.548740416,\t0.55922865], label='Bi-LSTM')\n",
        "    plt.plot(time,[0.583333333,\t0.579047619,\t0.577586207,\t0.542898868,\t0.552800735], label='GRU')\n",
        "    plt.plot(time,[0.661764706,0.611428571,0.568965517,0,0], label='TCNN')\n",
        "    x_axis = 'time stamp'\n",
        "    y_axis = 'accuracy'\n",
        "    plt.xlabel('Time difference')\n",
        "    plt.ylabel('Accuracy')\n",
        "    plt.title('All models on Ottawa Shooting')\n",
        "    plt.grid(True)\n",
        "    plt.legend()\n",
        "plot_ottawa_shooting()"
      ],
      "execution_count": 47,
      "outputs": [
        {
          "output_type": "display_data",
          "data": {
            "image/png": "[encoded data removed]",
            "text/plain": [
              "<Figure size 432x288 with 1 Axes>"
            ]
          },
          "metadata": {
            "tags": [],
            "needs_background": "light"
          }
        }
      ]
    },
    {
      "cell_type": "code",
      "metadata": {
        "id": "dQJWw2JU8_aY",
        "colab": {
          "base_uri": "https://localhost:8080/",
          "height": 295
        },
        "outputId": "a30db44a-fb95-4ca6-ffb0-efb3ce02d914"
      },
      "source": [
        "def plot_putin_missing():\n",
        "    time = [2,5,10,30,60]\n",
        "    import matplotlib.pyplot as plt\n",
        "    plt.plot(time,[0.452380952\t,0.531746032\t,0.617283951,\t0.574879227,\t0.600694444], label='Simple Dense')\n",
        "    plt.plot(time,[0.523809524\t,0.595238095\t,0.592592593,\t0.589371981,\t0.578125], label='Simple RNN')\n",
        "    plt.plot(time,[0.619047619\t,0.523809524\t,0.555555556,\t0.599033816,\t0.607638889], label='LSTM')\n",
        "    plt.plot(time,[0.523809524\t,0.563492063\t,0.563786008,\t0.59178744\t,0.621527778], label='Bi-LSTM')\n",
        "    plt.plot(time,[0.333333333\t,0.53968254\t  ,0.567901235,\t0.611111111,\t0.597222222], label='GRU')\n",
        "    plt.plot(time,[0.428571429,0.547619048,0.555555556,0,0], label='TCNN')\n",
        "    x_axis = 'time stamp'\n",
        "    y_axis = 'accuracy'\n",
        "    plt.xlabel('Time difference')\n",
        "    plt.ylabel('Accuracy')\n",
        "    plt.title('All models on Putin Missing')\n",
        "    plt.grid(True)\n",
        "    plt.legend()\n",
        "plot_putin_missing()"
      ],
      "execution_count": 48,
      "outputs": [
        {
          "output_type": "display_data",
          "data": {
            "image/png": "[encoded data removed]",
            "text/plain": [
              "<Figure size 432x288 with 1 Axes>"
            ]
          },
          "metadata": {
            "tags": [],
            "needs_background": "light"
          }
        }
      ]
    },
    {
      "cell_type": "code",
      "metadata": {
        "id": "ciTLP0O69Kdz",
        "colab": {
          "base_uri": "https://localhost:8080/",
          "height": 295
        },
        "outputId": "e5ff0089-aed9-4b8c-a901-2d335736b89b"
      },
      "source": [
        "def plot_sydney_seig():\n",
        "    time = [2,5,10,30,60]\n",
        "    import matplotlib.pyplot as plt\n",
        "    plt.plot(time,[0.582159624\t,0.588454376,\t0.599814299\t,0.617988395\t,0.61417604], label='Simple Dense')\n",
        "    plt.plot(time,[0.596244131\t,0.562383613,\t0.593314763\t,0.619922631\t,0.612390645], label='Simple RNN')\n",
        "    plt.plot(time,[0.572769953\t,0.610800745,\t0.597028784\t,0.624435848\t,0.638814497], label='LSTM')\n",
        "    plt.plot(time,[0.572769953\t,0.569832402,\t0.604456825\t,0.617343649\t,0.615961435], label='Bi-LSTM')\n",
        "    plt.plot(time,[0.610328638\t,0.577281192,\t0.588672238\t,0.607672469\t,0.632208534], label='GRU')\n",
        "    plt.plot(time,[0.633802817,0.569832402,0.573816156,0,0], label='TCNN')\n",
        "    x_axis = 'time stamp'\n",
        "    y_axis = 'accuracy'\n",
        "    plt.xlabel('Time difference')\n",
        "    plt.ylabel('Accuracy')\n",
        "    plt.title('All models on Sydney Seig')\n",
        "    plt.grid(True)\n",
        "    plt.legend()\n",
        "plot_sydney_seig()"
      ],
      "execution_count": 49,
      "outputs": [
        {
          "output_type": "display_data",
          "data": {
            "image/png": "[encoded data removed]",
            "text/plain": [
              "<Figure size 432x288 with 1 Axes>"
            ]
          },
          "metadata": {
            "tags": [],
            "needs_background": "light"
          }
        }
      ]
    },
    {
      "cell_type": "code",
      "metadata": {
        "id": "7STd68q4RiN1"
      },
      "source": [
        "def plot_ensembler_1_avg():\n",
        "    time = [2,5,10,30,60]\n",
        "    import matplotlib.pyplot as plt\n",
        "    plt.plot(time,[0.628019324,0.747645951,0.777777778,0.795931142,0.786973555], label='Charlie hebdo')\n",
        "    plt.plot(time,[0.626865672,0.637931034,0.632380952,0.63172043,0.618914902],label='Ferguson')\n",
        "    plt.plot(time,[0.473684211,0.53200883,0.511111111,0.555072464,0.531032078],label='German Wings Crash')\n",
        "    plt.plot(time,[0,0.722222222,0.636363636,0.764705882,0.719298246], label='Gurlit')\n",
        "    plt.plot(time,[0.529411765,0.573333333,0.559386973,0.539612997,0.546372819], label='Ottawa Shooting')\n",
        "    plt.plot(time,[0.624413146,0.567970205,0.60909935,0.605415861,0.635600786], label='Sydney Seig')\n",
        "    plt.plot(time,[0.571428571,0.571428571,0.58436214,0.608695652,0.590277778], label='Putin Missing')\n",
        "    x_axis = 'time stamp'\n",
        "    y_axis = 'accuracy'\n",
        "    plt.xlabel('Time difference')\n",
        "    plt.ylabel('Accuracy')\n",
        "    plt.title('Ensembler on all events with average method(not voting)')\n",
        "    plt.grid(True)\n",
        "    plt.legend()  "
      ],
      "execution_count": 27,
      "outputs": []
    },
    {
      "cell_type": "code",
      "metadata": {
        "id": "9sIrm84JA7jI"
      },
      "source": [
        "def plot_ensembler_1_voting():\n",
        "    time = [2,5,10,30,60]\n",
        "    import matplotlib.pyplot as plt\n",
        "    plt.plot(time,[0.603864734,0.730696798,0.766573296,0.798435055,0.792033954], label='Charlie hebdo')\n",
        "    plt.plot(time,[0.597014925,0.639846743,0.655238095,0.623991935,0.61965812], label='Ferguson')\n",
        "    plt.plot(time,[0.502923977,0.560706402,0.525555556,0.541062802,0.54776848], label='German Wings Crash')\n",
        "    plt.plot(time,[0.333333333,0.444444444,0.393939394,0.784313725,0.771929825], label='Gurlit')\n",
        "    plt.plot(time,[0.558823529,0.546666667,0.548850575,0.541073384,0.550045914], label='Ottawa Shooting')\n",
        "    plt.plot(time,[0.605633803,0.588454376,0.586815227,0.603159252,0.635243706], label='Sydney Seig')\n",
        "    plt.plot(time,[0.5,0.555555556,0.592592593,0.608695652,0.598958333], label='Putin Missing')\n",
        "    x_axis = 'time stamp'\n",
        "    y_axis = 'accuracy'\n",
        "    plt.xlabel('Time difference')\n",
        "    plt.ylabel('Accuracy')\n",
        "    plt.title('Ensembler\\'s accuracy with majority voting method')\n",
        "    plt.grid(True)\n",
        "    plt.legend()  \n"
      ],
      "execution_count": 28,
      "outputs": []
    },
    {
      "cell_type": "code",
      "metadata": {
        "colab": {
          "base_uri": "https://localhost:8080/",
          "height": 295
        },
        "id": "WYNgQ8nVLKRO",
        "outputId": "6435bfd6-aa51-4104-c80c-5397e8dfbedc"
      },
      "source": [
        "if __name__ == \"__main__\":\n",
        "\n",
        "  #tm = [120,300,600]\n",
        "  #for e in range(7):\n",
        "  #  for t in tm:\n",
        "  #    predicted,expected = predict('TCNN',e,t)\n",
        "  #    #print(pr.shape)\n",
        "  #    events_names = [\"charliehebdo\", \"ferguson\", \"germanwings-crash\", \"gurlitt\", \"ottawashooting\", \"putinmissing\",\n",
        "  #                  \"sydneysiege\"]\n",
        "#\n",
        "  #    #predicted,expected = Ensembler_1(0,1800,'avg')\n",
        "  #    TP,TN,FP,FN = build_confusion_matrix(list(expected),list(predicted))\n",
        "  #    print('TP= ',TP,'  TN =',TN,'  FP= ',FP,' FN= ',FN)\n",
        "  #    try:\n",
        "  #      accuracy = (TN+TP) /(TN+TP+FN+FP)\n",
        "  #      precision = TP / (TP+FP)\n",
        "  #      recall = TP /(TP+FN)\n",
        "  #      f1_score = 2*((precision * recall)/(precision + recall))\n",
        "  #      print(f'accuracy = {accuracy}, f1 = {f1_score}')\n",
        "  #    except Exception:\n",
        "  #      print('ERROR DIVISION BY ZERO')\n",
        "  #      TP,TN,FP,FN =-1,-1,-1,-1\n",
        "  #    import csv\n",
        "  #    with open(f'{models_dir}/TCNN_results.csv', 'a',newline='') as file:\n",
        "  #      writer = csv.writer(file)\n",
        "  #      writer.writerow([events_names[e],t,accuracy,precision,recall,f1_score,TP,TN,FP,FN])\n",
        " \n",
        "  #print(result)\n",
        "  #print(list(predicted),'  ',list(expected))\n",
        "\n",
        "  #SimpleRNN  LSTM  GRU BiLSTM TCNN\n",
        "  #train on 45 min\n",
        "  #draw graph which show which model outperformed all\n",
        "  \n",
        "  #conclude_individual_results()\n",
        "  #plot_ensembler_1_voting()\n",
        "  #plot_ensembler_1_avg()\n",
        "  \n",
        "  #plot_charliehebdo()\n",
        "  plot_ferguson()\n",
        "  #plot_germanwings()\n",
        "  #plot_gurlit()\n",
        "  #plot_putin_missing()\n",
        "  #plot_sydney_seig()\n",
        "  #plot_ottawa_shooting()\n",
        "  #plot_ensembler_1()"
      ],
      "execution_count": 42,
      "outputs": [
        {
          "output_type": "display_data",
          "data": {
            "image/png": "[encoded data removed]",
            "text/plain": [
              "<Figure size 432x288 with 1 Axes>"
            ]
          },
          "metadata": {
            "tags": [],
            "needs_background": "light"
          }
        }
      ]
    },
    {
      "cell_type": "code",
      "metadata": {
        "id": "STl3hy94iaH-"
      },
      "source": [
        "'''x_test,y_test,x_train,y_train = pre_process(4,600)\n",
        "    model5_A = build_tcnn(x_train,y_train,SAVE_MODEL_AFTER_TRAINING ,4,600 ,120)\n",
        "    for e in event:\n",
        "      for t in time:\n",
        "        x_test,y_test,x_train,y_train = pre_process(e,t)  \n",
        "        if t== 1800 or t == 3600:\n",
        "          epoch = 120\n",
        "        else:\n",
        "          epoch=300  \n",
        "        epoch = 120\n",
        "        #model1 = build_LSTM(x_train,y_train,SAVE_MODEL_AFTER_TRAINING    ,e,t  ,epoch)\n",
        "        #model2 = build_GRU(x_train,y_train,SAVE_MODEL_AFTER_TRAINING ,e,t ,epoch)\n",
        "        #model3 = build_bi_LSTM(x_train,y_train,SAVE_MODEL_AFTER_TRAINING ,e,t ,epoch)\n",
        "        #model4 = build_RNN(x_train,y_train,SAVE_MODEL_AFTER_TRAINING ,e,t ,epoch)\n",
        "        #Build_Simple_Dense(x_train,y_train,SAVE_MODEL_AFTER_TRAINING ,e,t ,epoch)    \n",
        "        #model5_A = build_tcnn(x_train,y_train,SAVE_MODEL_AFTER_TRAINING ,e,t ,epoch)    \n",
        "    '''\n"
      ],
      "execution_count": null,
      "outputs": []
    },
    {
      "cell_type": "code",
      "metadata": {
        "id": "Fb0w4Ivkh-xf"
      },
      "source": [
        "'''\n",
        "    # JUST CHANGE PARAMETERS HERE\n",
        "    # charliehebdo=0, ferguson=1, germanwings-crash=2, gurlitt=3, ottawashooting=4, putinmissing=5,sydneysiege=6\n",
        "\n",
        "    #=====================\n",
        "    EVENT = 6\n",
        "    # in seconds  120,300,600,1800,3600\n",
        "    TIME = 120\n",
        "    t=[120,300,600,1800,3600]\n",
        "    e = [1,2,3,4,5,6]\n",
        "    RUN_FROM_SAVED_MODELS = False#True\n",
        "    \n",
        "    SAVE_MODEL_AFTER_TRAINING=True\n",
        "        #[\"charliehebdo\", \"ferguson\", \"germanwings-crash\", \"gurlitt\", \"ottawashooting\", \"putinmissing\",\"sydneysiege\"]\n",
        "    # time in seocnds\n",
        "    \n",
        "    data = load_data(event = EVENT, time=TIME)\n",
        "    \n",
        "    # splitted into 70 - 30\n",
        "    train, test = train_test_split(data, test_size=0.3)\n",
        "    \n",
        "    x_train = train.drop(columns=[\"status\"])\n",
        "    y_train = train[\"status\"] \n",
        "\n",
        "    scaler =  MinMaxScaler(feature_range=(0,1))\n",
        "    x_train = scaler.fit_transform(x_train)\n",
        "\n",
        "\n",
        "    x_test = test.drop(columns=[\"status\"])\n",
        "    y_test = test[\"status\"] \n",
        "\n",
        "    scaler =  MinMaxScaler(feature_range=(0,1))\n",
        "    x_test = scaler.fit_transform(x_test)\n",
        "\n",
        "    #pdb.set_trace()\n",
        "\n",
        "    # reshaping\n",
        "    x_train = np.reshape(x_train, (x_train.shape[0], 1, x_train.shape[1]))\n",
        "    x_test = np.reshape(x_test, (x_test.shape[0], 1, x_test.shape[1]))\n",
        "    \n",
        "    # Running and Saving Models\n",
        "    #model1 = build_LSTM(x_train,y_train,SAVE_MODEL_AFTER_TRAINING    ,EVENT,TIME,60 )\n",
        "    #model2 = build_GRU(x_train,y_train,SAVE_MODEL_AFTER_TRAINING     ,EVENT,TIME  ,60)\n",
        "    #model3 = build_bi_LSTM(x_train,y_train,SAVE_MODEL_AFTER_TRAINING ,EVENT,TIME  ,60)\n",
        "    #model4 = build_RNN(x_train,y_train,SAVE_MODEL_AFTER_TRAINING     ,EVENT,TIME  ,60)    \n",
        "    #model5_A = build_tcnn(x_train,y_train,SAVE_MODEL_AFTER_TRAINING    ,EVENT,TIME  ,60)\n",
        "    \n",
        "    for eve in e:\n",
        "      for i in t:\n",
        "        model2 = build_GRU(x_train,y_train,SAVE_MODEL_AFTER_TRAINING     ,eve,i  ,300)\n",
        "        model3 = build_bi_LSTM(x_train,y_train,SAVE_MODEL_AFTER_TRAINING ,eve,i  ,300)\n",
        "        model4 = build_RNN(x_train,y_train,SAVE_MODEL_AFTER_TRAINING     ,eve,i  ,300)    \n",
        "    \n",
        "\n",
        "\n",
        "\n",
        "    #\n",
        "    #if RUN_FROM_SAVED_MODELS == True:\n",
        "    #    models = load_models(EVENT,TIME)\n",
        "    #\n",
        "    #else: # use above build models \n",
        "    #    models = []\n",
        "    #    models.append(model1)\n",
        "    #    models.append(model2)\n",
        "    #    models.append(model3)\n",
        "    #    models.append(model4)\n",
        "    #    #models.append(model5)\n",
        "    #result =  Ensembler_result(models,x_test)\n",
        "    #r = (result == y_test).sum()\n",
        "    #acc = r/len(y_test)\n",
        "    #\n",
        "    #print(result)\n",
        "    #print(acc)\n",
        "\n",
        "    #TP,TN,FP,FN = build_confusion_matrix(y_test,result)\n",
        "    #\n",
        "    #accuracy = (TN+TP) /(TN+TP+FN+FP)\n",
        "    #precision = TP / (TP+FP)\n",
        "    #recall = TP /(TP+FN)\n",
        "    #f1_score = 2*((precision * recall)/(precision + recall))\n",
        "    #print('accuracy = ',accuracy)\n",
        "    #print('precision = ',precision)\n",
        "    #print('recall = ',recall)\n",
        "    #print('f1 score = ',f1_score)\n",
        "    '''"
      ],
      "execution_count": null,
      "outputs": []
    }
  ]
}